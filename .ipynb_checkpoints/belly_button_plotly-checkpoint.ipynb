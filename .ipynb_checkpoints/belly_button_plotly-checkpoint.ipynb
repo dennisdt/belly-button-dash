{
 "cells": [
  {
   "cell_type": "code",
   "execution_count": 1,
   "metadata": {
    "collapsed": true
   },
   "outputs": [],
   "source": [
    "import pandas as pd\n",
    "import numpy as np\n",
    "\n",
    "import sqlalchemy\n",
    "from sqlalchemy.ext.automap import automap_base\n",
    "from sqlalchemy.orm import Session\n",
    "from sqlalchemy import create_engine"
   ]
  },
  {
   "cell_type": "code",
   "execution_count": 2,
   "metadata": {
    "collapsed": true
   },
   "outputs": [],
   "source": [
    "engine = create_engine(\"sqlite:///belly_button_biodiversity.sqlite\")\n",
    "\n",
    "# reflect an existing database into a new model\n",
    "Base = automap_base()\n",
    "# reflect the tables\n",
    "Base.prepare(engine, reflect=True)\n",
    "\n",
    "# Save references to each table\n",
    "Samples_Metadata = Base.classes.samples_metadata\n",
    "OTU = Base.classes.otu\n",
    "Samples = Base.classes.samples\n",
    "\n",
    "# Create our session (link) from Python to the DB\n",
    "session = Session(engine)"
   ]
  },
  {
   "cell_type": "code",
   "execution_count": 3,
   "metadata": {
    "collapsed": true
   },
   "outputs": [],
   "source": [
    "def names():\n",
    "\n",
    "    # Use Pandas to perform the sql query\n",
    "    stmt = session.query(Samples).statement\n",
    "    df = pd.read_sql_query(stmt, session.bind)\n",
    "    df.set_index('otu_id', inplace=True)\n",
    "\n",
    "    # Return a list of the column names (sample names)\n",
    "    return list(df.columns)"
   ]
  },
  {
   "cell_type": "code",
   "execution_count": 4,
   "metadata": {
    "collapsed": true
   },
   "outputs": [],
   "source": [
    "def otu():\n",
    "    \n",
    "    results = session.query(OTU.lowest_taxonomic_unit_found).all()\n",
    "\n",
    "    # Use numpy ravel to extract list of tuples into a list of OTU descriptions\n",
    "    otu_list = list(np.ravel(results))\n",
    "    return jsonify(otu_list)"
   ]
  },
  {
   "cell_type": "code",
   "execution_count": 5,
   "metadata": {
    "collapsed": true
   },
   "outputs": [],
   "source": [
    "def sample_metadata(sample):\n",
    "   \n",
    "    sel = [Samples_Metadata.SAMPLEID, Samples_Metadata.ETHNICITY,\n",
    "           Samples_Metadata.GENDER, Samples_Metadata.AGE,\n",
    "           Samples_Metadata.LOCATION, Samples_Metadata.BBTYPE]\n",
    "\n",
    "    \n",
    "    # matches the numeric value of `SAMPLEID` from the database\n",
    "    results = session.query(*sel).\\\n",
    "        filter(Samples_Metadata.SAMPLEID == sample[3:]).all()\n",
    "\n",
    "    # Create a dictionary entry for each row of metadata information\n",
    "    sample_metadata = {}\n",
    "    for result in results:\n",
    "        sample_metadata['SAMPLEID'] = result[0]\n",
    "        sample_metadata['ETHNICITY'] = result[1]\n",
    "        sample_metadata['GENDER'] = result[2]\n",
    "        sample_metadata['AGE'] = result[3]\n",
    "        sample_metadata['LOCATION'] = result[4]\n",
    "        sample_metadata['BBTYPE'] = result[5]\n",
    "\n",
    "    return sample_metadata"
   ]
  },
  {
   "cell_type": "code",
   "execution_count": 6,
   "metadata": {
    "collapsed": true
   },
   "outputs": [],
   "source": [
    "def sample_wfreq(sample):\n",
    "    \"\"\"Return the Weekly Washing Frequency as a number.\"\"\"\n",
    "\n",
    "    # `sample[3:]` strips the `BB_` prefix\n",
    "    results = session.query(Samples_Metadata.WFREQ).\\\n",
    "        filter(Samples_Metadata.SAMPLEID == sample[3:]).all()\n",
    "    wfreq = np.ravel(results)\n",
    "\n",
    "    # Return only the first integer value for washing frequency\n",
    "    return int(wfreq[0])"
   ]
  },
  {
   "cell_type": "code",
   "execution_count": 7,
   "metadata": {
    "collapsed": true
   },
   "outputs": [],
   "source": [
    "def samples(sample):\n",
    "    \n",
    "    stmt = session.query(Samples).statement\n",
    "    df = pd.read_sql_query(stmt, session.bind)\n",
    "\n",
    "    # Make sure that the sample was found in the columns, else throw an error\n",
    "    if sample not in df.columns:\n",
    "        return jsonify(f\"Error! Sample: {sample} Not Found!\"), 400\n",
    "\n",
    "    # Return any sample values greater than 1\n",
    "    df = df[df[sample] > 1]\n",
    "\n",
    "    # Sort the results by sample in descending order\n",
    "    df = df.sort_values(by=sample, ascending=0)\n",
    "\n",
    "    # Format the data to send as json\n",
    "    data = [{\n",
    "        \"otu_ids\": df[sample].index.values.tolist(),\n",
    "        \"sample_values\": df[sample].values.tolist()\n",
    "    }]\n",
    "    return data"
   ]
  },
  {
   "cell_type": "code",
   "execution_count": 8,
   "metadata": {
    "collapsed": true
   },
   "outputs": [],
   "source": [
    "name = names()"
   ]
  },
  {
   "cell_type": "code",
   "execution_count": 9,
   "metadata": {
    "collapsed": true
   },
   "outputs": [],
   "source": [
    "data_sam = samples(\"BB_940\")"
   ]
  },
  {
   "cell_type": "code",
   "execution_count": 10,
   "metadata": {
    "collapsed": true
   },
   "outputs": [],
   "source": [
    "import plotly.plotly as py\n",
    "import plotly.graph_objs as go"
   ]
  },
  {
   "cell_type": "code",
   "execution_count": 11,
   "metadata": {
    "collapsed": true
   },
   "outputs": [],
   "source": [
    "labels = data_sam[0]['otu_ids']"
   ]
  },
  {
   "cell_type": "code",
   "execution_count": 21,
   "metadata": {},
   "outputs": [
    {
     "data": {
      "text/html": [
       "<iframe id=\"igraph\" scrolling=\"no\" style=\"border:none;\" seamless=\"seamless\" src=\"https://plot.ly/~dennisdt/6.embed\" height=\"525px\" width=\"100%\"></iframe>"
      ],
      "text/plain": [
       "<plotly.tools.PlotlyDisplay object>"
      ]
     },
     "execution_count": 21,
     "metadata": {},
     "output_type": "execute_result"
    }
   ],
   "source": [
    "fig = {\n",
    "    \"data\": [\n",
    "        {\n",
    "            \"x\":data_sam[0][\"otu_ids\"],\n",
    "            \"y\":data_sam[0][\"sample_values\"],\n",
    "            \"text\": data_sample[0][\"otu_ids\"],\n",
    "            \"mode\": \"markers\",\n",
    "            \"marker\": dict(\n",
    "                color = data_sam[0][\"otu_ids\"],\n",
    "                size = data_sam[0][\"sample_values\"],\n",
    "                colorscale = \"YIGnBu\",\n",
    "            )\n",
    "        }\n",
    "    ]\n",
    "}\n",
    "py.iplot(fig, filename='bubble-chart')"
   ]
  },
  {
   "cell_type": "code",
   "execution_count": 14,
   "metadata": {},
   "outputs": [
    {
     "data": {
      "text/html": [
       "<iframe id=\"igraph\" scrolling=\"no\" style=\"border:none;\" seamless=\"seamless\" src=\"https://plot.ly/~dennisdt/2.embed\" height=\"525px\" width=\"100%\"></iframe>"
      ],
      "text/plain": [
       "<plotly.tools.PlotlyDisplay object>"
      ]
     },
     "execution_count": 14,
     "metadata": {},
     "output_type": "execute_result"
    }
   ],
   "source": [
    "fig = {\n",
    "  \"data\": [\n",
    "    {\n",
    "      \"values\": data_sam[0][\"sample_values\"][0:10],\n",
    "      \"labels\": data_sam[0][\"otu_ids\"][0:10],\n",
    "      \"hovertext\": labels[0:10],\n",
    "      \"hoverinfo\":\"hovertext\",\n",
    "      \"hole\": .4,\n",
    "      \"type\": \"pie\",\n",
    "      \"marker\": {\n",
    "          \"colors\": ['#add8e6','#b7dde5','#c0e1e5','#cae5e4','#d3e9e4','#dceee3','#e4f2e2','#eef7e1','#f6fae1','#ffffe0']\n",
    "      }\n",
    "    }],\n",
    "  \"layout\": {\n",
    "        \"title\":\"OTU Percent\",\n",
    "        \"annotations\": [\n",
    "            {\n",
    "                \"font\": {\n",
    "                    \"size\": 20\n",
    "                },\n",
    "                \"showarrow\": False,\n",
    "                \"text\": \" \",\n",
    "                \"x\": 0.20,\n",
    "                \"y\": 0.5\n",
    "            }\n",
    "        ]\n",
    "    }\n",
    "}\n",
    "py.iplot(fig, filename='donut')"
   ]
  },
  {
   "cell_type": "code",
   "execution_count": 15,
   "metadata": {
    "collapsed": true
   },
   "outputs": [],
   "source": [
    "wfreq = sample_wfreq(\"BB_940\")"
   ]
  },
  {
   "cell_type": "code",
   "execution_count": 16,
   "metadata": {
    "collapsed": true
   },
   "outputs": [],
   "source": [
    "level = wfreq*20"
   ]
  },
  {
   "cell_type": "code",
   "execution_count": 17,
   "metadata": {
    "collapsed": true
   },
   "outputs": [],
   "source": [
    "degrees = 180 - level\n",
    "radius = .5\n",
    "radians = degrees * np.pi / 180\n",
    "x = radius * np.cos(radians)\n",
    "y = radius * np.sin(radians)\n"
   ]
  },
  {
   "cell_type": "code",
   "execution_count": 18,
   "metadata": {
    "collapsed": true
   },
   "outputs": [],
   "source": [
    "main_path = 'M -.0 -0.05 L .0 0.05 L '\n",
    "path_x = str(x)\n",
    "path_y = str(y)\n",
    "\n",
    "path = main_path + path_x + \" \" + path_y + \" \" + \"Z\""
   ]
  },
  {
   "cell_type": "code",
   "execution_count": 19,
   "metadata": {},
   "outputs": [
    {
     "data": {
      "text/plain": [
       "'M -.0 -0.05 L .0 0.05 L -0.383022221559 0.321393804843 Z'"
      ]
     },
     "execution_count": 19,
     "metadata": {},
     "output_type": "execute_result"
    }
   ],
   "source": [
    "path"
   ]
  },
  {
   "cell_type": "code",
   "execution_count": 20,
   "metadata": {},
   "outputs": [
    {
     "data": {
      "text/html": [
       "<iframe id=\"igraph\" scrolling=\"no\" style=\"border:none;\" seamless=\"seamless\" src=\"https://plot.ly/~dennisdt/4.embed\" height=\"500px\" width=\"500px\"></iframe>"
      ],
      "text/plain": [
       "<plotly.tools.PlotlyDisplay object>"
      ]
     },
     "execution_count": 20,
     "metadata": {},
     "output_type": "execute_result"
    }
   ],
   "source": [
    "fig = {\n",
    "    \"data\": [\n",
    "        {\n",
    "            \"type\": 'scatter',\n",
    "            \"x\": [0], \n",
    "            \"y\":[0],\n",
    "            \"marker\": {\"size\": 12, \"color\":'850000'},\n",
    "            \"showlegend\": False,\n",
    "            \"name\": 'Freq',\n",
    "            \"text\": level,\n",
    "            \"hoverinfo\": 'text+name'},\n",
    "        {\n",
    "            \"values\": [50/9, 50/9, 50/9, 50/9, 50/9, 50/9, 50/9, 50/9, 50/9, 50],\n",
    "            \"rotation\": 90,\n",
    "            \"text\": ['8-9', '7-8', '6-7', '5-6', '4-5', '3-4', '2-3', '1-2', '0-1', ''],\n",
    "            \"textinfo\": 'text',\n",
    "            \"textposition\":'inside',\n",
    "            \"marker\": {\n",
    "                \"colors\":['#add8e6','#b7dde5','#c0e1e5','#cae5e4','#d3e9e4','#dceee3','#e4f2e2','#eef7e1','#f6fae1','#ffffff']},\n",
    "                \"labels\": ['8-9', '7-8', '6-7', '5-6', '4-5', '3-4', '2-3', '1-2', '0-1', ''],\n",
    "                \"hoverinfo\": 'label',\n",
    "                \"hole\": .5,\n",
    "                \"type\": 'pie',\n",
    "                \"showlegend\": False\n",
    "        }],\n",
    "        \"layout\": {\n",
    "                \"shapes\":[{\n",
    "                    \"type\": 'path',\n",
    "                    \"path\": path,\n",
    "                    \"fillcolor\": '850000',\n",
    "                    \"line\": {\n",
    "                        \"color\": '850000'\n",
    "                    }\n",
    "                    }],\n",
    "                \"title\": '<b>Belly Button Washing Frequency</b> <br> Scrubs per Week',\n",
    "                \"height\": 500,\n",
    "                \"width\": 500,\n",
    "                \"xaxis\": {\"zeroline\":False, \"showticklabels\":False,\n",
    "                            \"showgrid\": False, \"range\": [-1, 1]},\n",
    "                \"yaxis\": {\"zeroline\":False, \"showticklabels\":False,\n",
    "                            \"showgrid\": False, \"range\": [-1, 1]}\n",
    "                }\n",
    "}\n",
    "py.iplot(fig, filename='gauge')"
   ]
  },
  {
   "cell_type": "code",
   "execution_count": null,
   "metadata": {
    "collapsed": true
   },
   "outputs": [],
   "source": []
  }
 ],
 "metadata": {
  "kernelspec": {
   "display_name": "Python 3",
   "language": "python",
   "name": "python3"
  },
  "language_info": {
   "codemirror_mode": {
    "name": "ipython",
    "version": 3
   },
   "file_extension": ".py",
   "mimetype": "text/x-python",
   "name": "python",
   "nbconvert_exporter": "python",
   "pygments_lexer": "ipython3",
   "version": "3.6.3"
  }
 },
 "nbformat": 4,
 "nbformat_minor": 2
}
